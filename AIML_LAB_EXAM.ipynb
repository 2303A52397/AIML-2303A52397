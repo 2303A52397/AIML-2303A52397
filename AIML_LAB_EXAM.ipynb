{
  "nbformat": 4,
  "nbformat_minor": 0,
  "metadata": {
    "colab": {
      "provenance": [],
      "authorship_tag": "ABX9TyPTS/EQADTOxfdGNA2Aj23c",
      "include_colab_link": true
    },
    "kernelspec": {
      "name": "python3",
      "display_name": "Python 3"
    },
    "language_info": {
      "name": "python"
    }
  },
  "cells": [
    {
      "cell_type": "markdown",
      "metadata": {
        "id": "view-in-github",
        "colab_type": "text"
      },
      "source": [
        "<a href=\"https://colab.research.google.com/github/2303A52397/AIML-2303A52397/blob/main/AIML_LAB_EXAM.ipynb\" target=\"_parent\"><img src=\"https://colab.research.google.com/assets/colab-badge.svg\" alt=\"Open In Colab\"/></a>"
      ]
    },
    {
      "cell_type": "markdown",
      "source": [
        "HT.NO:2303A52397"
      ],
      "metadata": {
        "id": "uNPJOxUzBq17"
      }
    },
    {
      "cell_type": "markdown",
      "source": [
        "BATCH:36"
      ],
      "metadata": {
        "id": "YaNacVgNByHT"
      }
    },
    {
      "cell_type": "markdown",
      "source": [
        "QUESTION-22"
      ],
      "metadata": {
        "id": "6tNiL7tEFWgO"
      }
    },
    {
      "cell_type": "markdown",
      "source": [
        "Prediction of News Popularity in Social Media Platforms\n",
        "\n",
        "Q1.Identify the max and min popularities of news among the social atforms?\n",
        "\n",
        "Q2. Identify the date and time when news popularity was the most?\n",
        "\n",
        "Q3. Predict the social media platform with most popularity?\n",
        "\n",
        "Q4. What types of news items is suitable and not suitable for social media?\n",
        "\n",
        "Q5. Does news contribute to increase or decrease of social media popularity"
      ],
      "metadata": {
        "id": "oVKVzizJBXdV"
      }
    },
    {
      "cell_type": "code",
      "source": [
        "import pandas as pd\n",
        "\n",
        "file_path = 'path_to_your_dataset/Facebook_Economy.csv'\n",
        "data = pd.read_csv('/content/Facebook_Economy.csv')\n",
        "\n",
        "popularity_columns = [col for col in data.columns if col.startswith('TS')]\n",
        "\n",
        "max_popularity = data[popularity_columns].max().max()\n",
        "min_popularity = data[popularity_columns].min().min()\n",
        "\n",
        "print(f\"Maximum Popularity: {max_popularity}\")\n",
        "print(f\"Minimum Popularity: {min_popularity}\")"
      ],
      "metadata": {
        "colab": {
          "base_uri": "https://localhost:8080/"
        },
        "id": "iMtqF-VRB044",
        "outputId": "f4e0e6af-4f17-4e87-c740-edad010d9241"
      },
      "execution_count": 9,
      "outputs": [
        {
          "output_type": "stream",
          "name": "stdout",
          "text": [
            "Maximum Popularity: 49211\n",
            "Minimum Popularity: -1\n"
          ]
        }
      ]
    },
    {
      "cell_type": "code",
      "source": [
        "max_popularity_location = data[popularity_columns].stack().idxmax()\n",
        "min_popularity_location = data[popularity_columns].stack().idxmin()\n",
        "\n",
        "most_popular_value = data.loc[max_popularity_location[0], popularity_columns].idxmax()\n",
        "print(f\"Most Popular News: Row {max_popularity_location[0]}, Column {most_popular_value}\")"
      ],
      "metadata": {
        "colab": {
          "base_uri": "https://localhost:8080/"
        },
        "id": "A_ffumOkEdt7",
        "outputId": "cdbd06fd-8e20-4277-813b-8399754c742d"
      },
      "execution_count": 10,
      "outputs": [
        {
          "output_type": "stream",
          "name": "stdout",
          "text": [
            "Most Popular News: Row 16049, Column TS127\n"
          ]
        }
      ]
    },
    {
      "cell_type": "code",
      "source": [
        "platform_popularities = data[popularity_columns].mean()\n",
        "most_popular_platform = platform_popularities.idxmax()\n",
        "print(f\"Most Popular Platform: {most_popular_platform}\")"
      ],
      "metadata": {
        "colab": {
          "base_uri": "https://localhost:8080/"
        },
        "id": "0EZZ5q4CEnGt",
        "outputId": "d4b0193d-ab99-4e42-ee36-f582289cb995"
      },
      "execution_count": 11,
      "outputs": [
        {
          "output_type": "stream",
          "name": "stdout",
          "text": [
            "Most Popular Platform: TS144\n"
          ]
        }
      ]
    },
    {
      "cell_type": "code",
      "source": [
        "suitable_news = data[popularity_columns].mean().sort_values(ascending=False).head(5)\n",
        "unsuitable_news = data[popularity_columns].mean().sort_values(ascending=False).tail(5)\n",
        "\n",
        "print(f\"Suitable News Metrics: {suitable_news}\")\n",
        "print(f\"Unsuitable News Metrics: {unsuitable_news}\")"
      ],
      "metadata": {
        "colab": {
          "base_uri": "https://localhost:8080/"
        },
        "id": "cpwcm2YrEse6",
        "outputId": "ac31d06d-9f76-4052-a100-5d6038597d4f"
      },
      "execution_count": 12,
      "outputs": [
        {
          "output_type": "stream",
          "name": "stdout",
          "text": [
            "Suitable News Metrics: TS144    45.335739\n",
            "TS143    45.233995\n",
            "TS142    45.117482\n",
            "TS141    44.888466\n",
            "TS140    44.804431\n",
            "dtype: float64\n",
            "Unsuitable News Metrics: TS5    2.994988\n",
            "TS4    2.586240\n",
            "TS3    2.061080\n",
            "TS2    0.019814\n",
            "TS1   -0.420710\n",
            "dtype: float64\n"
          ]
        }
      ]
    },
    {
      "cell_type": "code",
      "source": [
        "correlation_analysis = data[popularity_columns].corr()\n",
        "popularity_trend = data[popularity_columns].mean(axis=1)\n",
        "\n",
        "early_popularity = data[popularity_columns[:len(popularity_columns)//2]].mean(axis=1)\n",
        "late_popularity = data[popularity_columns[len(popularity_columns)//2:]].mean(axis=1)\n",
        "\n",
        "popularity_change = late_popularity - early_popularity\n",
        "increasing_popularity_percentage = (popularity_change > 0).mean() * 100\n",
        "decreasing_popularity_percentage = (popularity_change < 0).mean() * 100\n",
        "\n",
        "print(f\"Percentage of news with increasing popularity: {increasing_popularity_percentage:.2f}%\")\n",
        "print(f\"Percentage of news with decreasing popularity: {decreasing_popularity_percentage:.2f}%\")\n",
        "print(\"Correlation Analysis of Popularity Metrics:\")\n",
        "print(correlation_analysis)"
      ],
      "metadata": {
        "colab": {
          "base_uri": "https://localhost:8080/"
        },
        "id": "ccgH1TIeGExs",
        "outputId": "44b9337d-a5d0-4ac8-bd6e-87964eb0278f"
      },
      "execution_count": 13,
      "outputs": [
        {
          "output_type": "stream",
          "name": "stdout",
          "text": [
            "Percentage of news with increasing popularity: 95.62%\n",
            "Percentage of news with decreasing popularity: 0.00%\n",
            "Correlation Analysis of Popularity Metrics:\n",
            "            TS1       TS2       TS3       TS4       TS5       TS6       TS7  \\\n",
            "TS1    1.000000  0.794695  0.048379  0.048835  0.049165  0.049523  0.049786   \n",
            "TS2    0.794695  1.000000  0.061420  0.062440  0.063171  0.064320  0.064914   \n",
            "TS3    0.048379  0.061420  1.000000  0.999799  0.999135  0.998889  0.998110   \n",
            "TS4    0.048835  0.062440  0.999799  1.000000  0.999434  0.999281  0.998598   \n",
            "TS5    0.049165  0.063171  0.999135  0.999434  1.000000  0.999900  0.999289   \n",
            "...         ...       ...       ...       ...       ...       ...       ...   \n",
            "TS140  0.043897  0.068818  0.698330  0.702333  0.705034  0.706498  0.709642   \n",
            "TS141  0.043856  0.068794  0.697702  0.701702  0.704401  0.705865  0.709009   \n",
            "TS142  0.043688  0.068582  0.695314  0.699334  0.702033  0.703500  0.706643   \n",
            "TS143  0.043648  0.068554  0.694753  0.698787  0.701488  0.702959  0.706105   \n",
            "TS144  0.043700  0.068602  0.694166  0.698198  0.700916  0.702387  0.705533   \n",
            "\n",
            "            TS8       TS9      TS10  ...     TS135     TS136     TS137  \\\n",
            "TS1    0.049822  0.049944  0.050006  ...  0.044182  0.044167  0.044047   \n",
            "TS2    0.065104  0.065672  0.065939  ...  0.069109  0.069120  0.068953   \n",
            "TS3    0.993631  0.992328  0.991313  ...  0.703205  0.702923  0.700869   \n",
            "TS4    0.994200  0.992977  0.992027  ...  0.707154  0.706871  0.704807   \n",
            "TS5    0.994946  0.993768  0.992867  ...  0.709849  0.709566  0.707496   \n",
            "...         ...       ...       ...  ...       ...       ...       ...   \n",
            "TS140  0.745185  0.750807  0.754146  ...  0.999773  0.999801  0.999926   \n",
            "TS141  0.744644  0.750273  0.753611  ...  0.999757  0.999789  0.999919   \n",
            "TS142  0.742283  0.747915  0.751251  ...  0.998547  0.998581  0.998711   \n",
            "TS143  0.741723  0.747356  0.750707  ...  0.998476  0.998513  0.998649   \n",
            "TS144  0.741123  0.746755  0.750113  ...  0.998443  0.998481  0.998618   \n",
            "\n",
            "          TS138     TS139     TS140     TS141     TS142     TS143     TS144  \n",
            "TS1    0.043968  0.043929  0.043897  0.043856  0.043688  0.043648  0.043700  \n",
            "TS2    0.068847  0.068846  0.068818  0.068794  0.068582  0.068554  0.068602  \n",
            "TS3    0.699455  0.698910  0.698330  0.697702  0.695314  0.694753  0.694166  \n",
            "TS4    0.703462  0.702915  0.702333  0.701702  0.699334  0.698787  0.698198  \n",
            "TS5    0.706162  0.705614  0.705034  0.704401  0.702033  0.701488  0.700916  \n",
            "...         ...       ...       ...       ...       ...       ...       ...  \n",
            "TS140  0.999963  0.999985  1.000000  0.999994  0.998822  0.998775  0.998744  \n",
            "TS141  0.999955  0.999978  0.999994  1.000000  0.998829  0.998783  0.998751  \n",
            "TS142  0.998763  0.998795  0.998822  0.998829  1.000000  0.999955  0.999920  \n",
            "TS143  0.998710  0.998748  0.998775  0.998783  0.999955  1.000000  0.999965  \n",
            "TS144  0.998678  0.998716  0.998744  0.998751  0.999920  0.999965  1.000000  \n",
            "\n",
            "[144 rows x 144 columns]\n"
          ]
        }
      ]
    }
  ]
}